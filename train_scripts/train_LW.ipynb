{
 "cells": [
  {
   "cell_type": "code",
   "execution_count": null,
   "id": "fd3b263a-530b-464d-b1fa-30a11f7d5d0c",
   "metadata": {},
   "outputs": [],
   "source": [
    "# !pip install torch-geometric\n",
    "# !pip install pytorch-lightning\n",
    "# !pip install h5py\n",
    "# !pip install matplotlib\n",
    "# !pip install tensorboard"
   ]
  },
  {
   "cell_type": "code",
   "execution_count": 1,
   "id": "ac43b396-0cbb-42d7-a3d2-293e7b10f229",
   "metadata": {},
   "outputs": [
    {
     "name": "stderr",
     "output_type": "stream",
     "text": [
      "GPU available: True (cuda), used: True\n",
      "TPU available: False, using: 0 TPU cores\n",
      "HPU available: False, using: 0 HPUs\n"
     ]
    },
    {
     "name": "stdout",
     "output_type": "stream",
     "text": [
      "U2c0_b30_N250000\n"
     ]
    },
    {
     "name": "stderr",
     "output_type": "stream",
     "text": [
      "You are using a CUDA device ('NVIDIA A100-PCIE-40GB') that has Tensor Cores. To properly utilize them, you should set `torch.set_float32_matmul_precision('medium' | 'high')` which will trade-off precision for performance. For more details, read https://pytorch.org/docs/stable/generated/torch.set_float32_matmul_precision.html#torch.set_float32_matmul_precision\n",
      "Missing logger folder: /gpfs/data/fs72150/springerd/Projects/LuttingerWard_from_ML/saves//SigmaTrans/metiso/U2c0_b30_N250000/save_GNN_basis_BS1_2024-10-22\n",
      "LOCAL_RANK: 0 - CUDA_VISIBLE_DEVICES: [0]\n",
      "\n",
      "  | Name          | Type      | Params | Mode \n",
      "----------------------------------------------------\n",
      "0 | model         | GNN_basis | 4.7 M  | train\n",
      "1 | criterion_mse | MSELoss   | 0      | train\n",
      "----------------------------------------------------\n",
      "4.7 M     Trainable params\n",
      "0         Non-trainable params\n",
      "4.7 M     Total params\n",
      "18.623    Total estimated model params size (MB)\n"
     ]
    },
    {
     "data": {
      "application/vnd.jupyter.widget-view+json": {
       "model_id": "",
       "version_major": 2,
       "version_minor": 0
      },
      "text/plain": [
       "Sanity Checking: |          | 0/? [00:00<?, ?it/s]"
      ]
     },
     "metadata": {},
     "output_type": "display_data"
    },
    {
     "name": "stderr",
     "output_type": "stream",
     "text": [
      "/home/fs72150/springerd/.local/lib/python3.11/site-packages/pytorch_lightning/trainer/connectors/data_connector.py:475: Your `val_dataloader`'s sampler has shuffling enabled, it is strongly recommended that you turn shuffling off for val/test dataloaders.\n",
      "/home/fs72150/springerd/.local/lib/python3.11/site-packages/pytorch_lightning/trainer/connectors/data_connector.py:424: The 'val_dataloader' does not have many workers which may be a bottleneck. Consider increasing the value of the `num_workers` argument` to `num_workers=127` in the `DataLoader` to improve performance.\n",
      "/home/fs72150/springerd/.local/lib/python3.11/site-packages/pytorch_lightning/trainer/connectors/data_connector.py:424: The 'train_dataloader' does not have many workers which may be a bottleneck. Consider increasing the value of the `num_workers` argument` to `num_workers=127` in the `DataLoader` to improve performance.\n"
     ]
    },
    {
     "data": {
      "application/vnd.jupyter.widget-view+json": {
       "model_id": "a52ca4be05e2473b8f95f8c9bed2744c",
       "version_major": 2,
       "version_minor": 0
      },
      "text/plain": [
       "Training: |          | 0/? [00:00<?, ?it/s]"
      ]
     },
     "metadata": {},
     "output_type": "display_data"
    },
    {
     "name": "stderr",
     "output_type": "stream",
     "text": [
      "/home/fs72150/springerd/.local/lib/python3.11/site-packages/pytorch_lightning/trainer/call.py:54: Detected KeyboardInterrupt, attempting graceful shutdown...\n"
     ]
    }
   ],
   "source": [
    "#%%\n",
    "import sys\n",
    "sys.path.append('/gpfs/data/fs72150/springerd/Projects/LuttingerWard_from_ML/code/')\n",
    "import torch\n",
    "# from models import models as models\n",
    "# from wrappers import wrapers\n",
    "from torch.utils.data import DataLoader\n",
    "import load_data\n",
    "import datetime\n",
    "from pytorch_lightning.loggers import TensorBoardLogger\n",
    "import pytorch_lightning as pl\n",
    "from pytorch_lightning.callbacks import EarlyStopping, ModelCheckpoint\n",
    "from pytorch_lightning.plugins.environments import LightningEnvironment\n",
    "import json\n",
    "import os\n",
    "import numpy as np\n",
    "import h5py\n",
    "\n",
    "\n",
    "def create_datasets(config):\n",
    "    \n",
    "    PATH = config[\"PATH_TRAIN\"]\n",
    "    f = h5py.File(PATH, 'r')\n",
    "    #data = np.array(f[\"train\"]['data'])\n",
    "    #rint(\"************************************\")\n",
    "    #print(\"************************************\")\n",
    "    #print(\"************************************\")\n",
    "    #rint(\"************************************\")\n",
    "    #print(\"Size of dataset: \", data.shape)\n",
    "    #print(\"************************************\")\n",
    "    #print(\"************************************\")\n",
    "    #print(\"************************************\")\n",
    "    #print(\"************************************\")\n",
    "    #train, validation = torch.utils.data.random_split(data, [int(data.__len__()*0.8), int(data.__len__())-int(data.__len__()*0.8)], generator=torch.Generator().manual_seed(42))\n",
    "\n",
    "    if config[\"TRAINDATA\"]==config[\"VALIDATIONDATA\"]:\n",
    "        data = np.array(f[config[\"TRAINDATA\"]])\n",
    "        train, validation = torch.utils.data.random_split(data, [int(data.__len__()*config[\"SPLIT\"]), int(data.__len__())-int(data.__len__()*config[\"SPLIT\"])], generator=torch.Generator().manual_seed(42))\n",
    "    else:\n",
    "        train = np.array(f[config[\"TRAINDATA\"]])\n",
    "        validation = np.array(f[config[\"VALIDATIONDATA\"]])\n",
    "    return train, validation\n",
    "\n",
    "\n",
    "def train():\n",
    "    ### JSON File contains full information about entire run (model, data, hyperparameters)\n",
    "    ### TODO \n",
    "    MODEL_NAME = \"GNN_basis\"\n",
    "    config = json.load(open('../configs/confmod_graph_neural_network.json'))[MODEL_NAME]\n",
    "\n",
    "    ''' Dataloading '''\n",
    "    train_data, validation_data = create_datasets(config)\n",
    "    train_data = np.array(train_data)\n",
    "    validation_data = np.array(validation_data)\n",
    "\n",
    "    ### > Single HDF5 file containing training and validation data \n",
    "    ld = __import__(\"load_data\", fromlist=['object'])\n",
    "    # data_set = load_data.Dataset_ae(config)\n",
    "    train_set = getattr(ld, config[\"DATA_LOADER\"])(config, train_data)\n",
    "    validation_set = getattr(ld, config[\"DATA_LOADER\"])(config, validation_data)\n",
    "\n",
    "    train_dataloader = DataLoader(train_set, batch_size=config[\"batch_size\"], shuffle=True)\n",
    "    validation_dataloader = DataLoader(validation_set, batch_size=config[\"batch_size\"], shuffle=True)\n",
    "\n",
    "\n",
    "    ''' Model setup '''\n",
    "    wrapers = __import__(\"wrappers.wrapers\", fromlist=['object'])#.wrapers\n",
    "    model = getattr(wrapers, config[\"MODEL_WRAPER\"])(config)\n",
    "\n",
    "    ''' Model loading from save file '''\n",
    "    if config[\"continue\"] == True:\n",
    "        SAVEPATH = config[\"SAVEPATH\"]\n",
    "        checkpoint = torch.load(SAVEPATH)\n",
    "        model.load_state_dict(checkpoint['state_dict'])\n",
    "        print(\" >>> Loaded checkpoint\")\n",
    "\n",
    "\n",
    "    ''' Logging and saving '''\n",
    "    DATA_NAME = os.path.splitext(os.path.basename(config[\"PATH_TRAIN\"]))[0]\n",
    "    print(DATA_NAME)\n",
    "    \n",
    "    PATH = \"/gpfs/data/fs72150/springerd/Projects/LuttingerWard_from_ML/saves/\"\n",
    "    CONFIGURATION = f\"{PATH}/SigmaTrans/metiso/{DATA_NAME}/save_{config['MODEL_NAME']}_BS{config['batch_size']}_{datetime.datetime.now().date()}\"\n",
    "    logger = TensorBoardLogger(PATH, name=CONFIGURATION)\n",
    "    \n",
    "    early_stop_callback = EarlyStopping(monitor=\"val_loss\", mode=\"min\", min_delta=0.00, patience=20, verbose=False)\n",
    "    checkpoint_callback = ModelCheckpoint(save_top_k=-1)\n",
    "\n",
    "    \n",
    "    # ### '''Define (pytorch_lightning) Trainer '''\n",
    "    # ### > SLURM Training\n",
    "    # trainer = pl.Trainer(max_epochs=config[\"epochs\"], \n",
    "                        # accelerator=config[\"device_type\"], \n",
    "                        # devices=config[\"devices\"], \n",
    "                        # num_nodes=config[\"num_nodes\"], \n",
    "                        # strategy='ddp', \n",
    "                        # logger=logger\n",
    "                        # )\n",
    "    # ### > Jupyter Notebook Training\n",
    "    trainer = pl.Trainer(max_epochs=config[\"epochs\"], \n",
    "                         accelerator='gpu', \n",
    "                         devices=1, \n",
    "                         strategy='auto', \n",
    "                         logger=logger, \n",
    "                         # log_every_n_steps=1, \n",
    "                         plugins=[LightningEnvironment()], \n",
    "                         callbacks=[checkpoint_callback]\n",
    "                        )\n",
    "\n",
    "    # ### > Jupyter Notebook CPU Training\n",
    "    # trainer = pl.Trainer(max_epochs=20, accelerator='cpu', devices=1, strategy='auto', logger=logger, plugins=[LightningEnvironment()])\n",
    "    \n",
    "    # ''' Train '''\n",
    "    trainer.fit(model, train_dataloader, validation_dataloader)\n",
    "    # trainer.fit(model, train_dataloader)\n",
    "    \n",
    "    \n",
    "    # ### ''' Saving configuration file into log folder ''' \n",
    "    LOGDIR = trainer.log_dir\n",
    "    json_object = json.dumps(config, indent=4)\n",
    "    with open(LOGDIR+\"/config.json\", \"w\") as outfile:\n",
    "        outfile.write(json_object)\n",
    "\n",
    "\n",
    "\n",
    "\n",
    "def main():\n",
    "    train()\n",
    "\n",
    "if __name__ == '__main__':\n",
    "    main()\n",
    "# %%\n"
   ]
  }
 ],
 "metadata": {
  "kernelspec": {
   "display_name": "Python 3",
   "language": "python",
   "name": "python3"
  },
  "language_info": {
   "codemirror_mode": {
    "name": "ipython",
    "version": 3
   },
   "file_extension": ".py",
   "mimetype": "text/x-python",
   "name": "python",
   "nbconvert_exporter": "python",
   "pygments_lexer": "ipython3",
   "version": "3.11.10"
  }
 },
 "nbformat": 4,
 "nbformat_minor": 5
}
