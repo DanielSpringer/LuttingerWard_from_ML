{
 "cells": [
  {
   "cell_type": "code",
   "execution_count": null,
   "id": "a5a598c0",
   "metadata": {},
   "outputs": [],
   "source": [
    "import torch\n",
    "import numpy as np\n",
    "import h5py\n",
    "import matplotlib.pyplot as plt\n",
    "%matplotlib inline\n",
    "import random\n",
    "import torch\n",
    "import src.wrappers.wrapers as wrapers\n",
    "import json\n",
    "from pathlib import Path\n",
    "\n",
    "def load_model(model_path):\n",
    "    path = Path(model_path)\n",
    "    \n",
    "    config = json.load(open(path.parent.parent/'config.json'))\n",
    "    checkpoint = torch.load(path.as_uri, map_location=torch.device('cuda:0'))\n",
    "    \n",
    "    model = getattr(wrapers, config[\"MODEL_WRAPER\"])(config)\n",
    "    model.load_state_dict(checkpoint['state_dict'])\n",
    "\n",
    "    return model, config\n",
    "\n",
    "def predict(model, full_vertex, positional_encoding: bool):   \n",
    "    pred = torch.zeros_like(full_vertex)\n",
    "    for i in range(full_vertex.shape[0]):\n",
    "        for j in range(full_vertex.shape[1]):\n",
    "            r = random.randint(full_vertex.shape[2])\n",
    "            pos = []\n",
    "            \n",
    "            if positional_encoding:\n",
    "                pos = [i, j, r]\n",
    "\n",
    "            dim1 = full_vertex[i, j, :]\n",
    "            dim2 = full_vertex[i, :, r]\n",
    "            dim3 = full_vertex[:, j, r]\n",
    "            full_input = torch.tensor([*pos, *dim1, *dim2, *dim3], dtype=torch.float32)\n",
    "            pred[i, j, :] = model(full_input.to(\"cuda:0\"))\n",
    "            del dim1, dim2, dim3, full_input\n",
    "    return pred\n",
    "\n",
    "def get_vertex_from_filepath(path: str):\n",
    "    with h5py.File(path, 'r') as f:\n",
    "        for name, data in f[\"V\"].items():\n",
    "            if name.startswith(\"step\"):\n",
    "                return data[()]"
   ]
  },
  {
   "cell_type": "code",
   "execution_count": null,
   "id": "d4d7bb1c",
   "metadata": {},
   "outputs": [],
   "source": [
    "model_path = \"\"\n",
    "data_path = \"\"\n",
    "model, config = load_model(model_path)\n",
    "model.model.eval()\n",
    "data = get_vertex_from_filepath(data_path)\n",
    "\n",
    "prediction = predict(model, data, positional_encoding=config[\"positional_encoding\"])"
   ]
  }
 ],
 "metadata": {
  "kernelspec": {
   "display_name": "Python 3 (ipykernel)",
   "language": "python",
   "name": "python3"
  },
  "language_info": {
   "codemirror_mode": {
    "name": "ipython",
    "version": 3
   },
   "file_extension": ".py",
   "mimetype": "text/x-python",
   "name": "python",
   "nbconvert_exporter": "python",
   "pygments_lexer": "ipython3",
   "version": "3.9.19"
  }
 },
 "nbformat": 4,
 "nbformat_minor": 5
}
