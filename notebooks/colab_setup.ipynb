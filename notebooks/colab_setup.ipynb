{
 "cells": [
  {
   "cell_type": "code",
   "execution_count": null,
   "metadata": {},
   "outputs": [],
   "source": [
    "# Setup of environment\n",
    "from google.colab import drive\n",
    "drive.mount('/content/drive/')\n",
    "\n",
    "!pip install gdown\n",
    "import gdown\n",
    "\n",
    "%cd /content/drive/MyDrive\n",
    "\n",
    "import os\n",
    "if os.path.exists(\"LuttingerWard_from_ML\") == True:\n",
    "  %cd LuttingerWard_from_ML/code\n",
    "  !git pull\n",
    "else:\n",
    "  !git clone https://github.com/DanielSpringer/LuttingerWard_from_ML.git\n",
    "  %cd LuttingerWard_from_ML\n",
    "  %mkdir -p data\n",
    "  url = 'https://drive.google.com/file/d/1hFFcaGH2Cm_bCUGLRHHEJg24HUhjxijM/view?usp=sharing'\n",
    "  gdown.download(url=url, quiet=False, fuzzy=True)\n",
    "  %mv batch1.hdf5 data/\n",
    "  %cd code"
   ]
  },
  {
   "cell_type": "code",
   "execution_count": 3,
   "metadata": {},
   "outputs": [
    {
     "name": "stderr",
     "output_type": "stream",
     "text": [
      "Downloading...\n",
      "From (uriginal): https://drive.google.com/uc?id=1CKGaR4Jy6aSCgWW24mS41_V1Z5JsXTj9\n",
      "From (redirected): https://drive.google.com/uc?id=1CKGaR4Jy6aSCgWW24mS41_V1Z5JsXTj9&confirm=t&uuid=71aa359f-55fa-44f7-a424-a61fde3fe85f\n",
      "To: /gpfs/data/fs72150/springerd/Projects/LuttingerWard_from_ML/code/batch1_UGrid.hdf5\n",
      "100%|██████████| 3.26G/3.26G [00:34<00:00, 93.6MB/s]\n"
     ]
    },
    {
     "data": {
      "text/plain": [
       "'batch1_UGrid.hdf5'"
      ]
     },
     "execution_count": 3,
     "metadata": {},
     "output_type": "execute_result"
    }
   ],
   "source": [
    "### DOWNLOADING FILES FROM GOOGLE DRIVE\n",
    "# # !pip install gdown\n",
    "# import gdown\n",
    "# url = 'https://drive.google.com/file/d/1CKGaR4Jy6aSCgWW24mS41_V1Z5JsXTj9/view?usp=sharing'\n",
    "# gdown.download(url=url, quiet=False, fuzzy=True)"
   ]
  }
 ],
 "metadata": {
  "kernelspec": {
   "display_name": "Python 3",
   "language": "python",
   "name": "python3"
  },
  "language_info": {
   "codemirror_mode": {
    "name": "ipython",
    "version": 3
   },
   "file_extension": ".py",
   "mimetype": "text/x-python",
   "name": "python",
   "nbconvert_exporter": "python",
   "pygments_lexer": "ipython3",
   "version": "3.11.10"
  }
 },
 "nbformat": 4,
 "nbformat_minor": 4
}
