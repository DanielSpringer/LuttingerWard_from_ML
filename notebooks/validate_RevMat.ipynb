{
 "cells": [
  {
   "cell_type": "code",
   "execution_count": 21,
   "id": "a5a598c0",
   "metadata": {},
   "outputs": [
    {
     "name": "stdout",
     "output_type": "stream",
     "text": [
      "/home/daniel/Projects/RevMat/LuttingerWard_from_ML/saves/gather_noimp/save_encoder_BS20_2024-06-12/version_1/checkpoints/epoch=249-step=33750.ckpt\n",
      "tensor([[  0.3887, -15.4920]], grad_fn=<AddmmBackward0>)\n",
      "tensor([  0.3200, -16.1181], dtype=torch.float64)\n"
     ]
    },
    {
     "name": "stderr",
     "output_type": "stream",
     "text": [
      "/tmp/ipykernel_3824559/3887405060.py:42: UserWarning: To copy construct from a tensor, it is recommended to use sourceTensor.clone().detach() or sourceTensor.clone().detach().requires_grad_(True), rather than torch.tensor(sourceTensor).\n",
      "  pred_ae_1 = model.model(torch.tensor(validation[random_sample][0])[None])\n"
     ]
    }
   ],
   "source": [
    "from torch.utils.data import Dataset\n",
    "import torch\n",
    "import numpy as np\n",
    "import h5py\n",
    "import pytorch_lightning as pl\n",
    "from torch import nn\n",
    "import matplotlib.pyplot as plt\n",
    "%matplotlib inline\n",
    "\n",
    "import sys\n",
    "sys.path.append('/home/daniel/Projects/RevMat/LuttingerWard_from_ML/code')\n",
    "\n",
    "import torch\n",
    "import json\n",
    "from torch.utils.data import DataLoader\n",
    "import os\n",
    "\n",
    "def load_model_data(SAVEPATH):\n",
    "    for filename in os.listdir(SAVEPATH+\"checkpoints\"):\n",
    "        f = os.path.join(SAVEPATH, filename)\n",
    "        FILENAME = \"checkpoints/\"+filename\n",
    "    config = json.load(open(SAVEPATH+'config.json'))\n",
    "    print(SAVEPATH+FILENAME)\n",
    "    checkpoint = torch.load(SAVEPATH+FILENAME, map_location=torch.device('cpu'))\n",
    "    \n",
    "    ''' Model setup '''\n",
    "    wrapers = __import__(\"wrappers.wrapers\", fromlist=['object'])#.wrapers\n",
    "    model = getattr(wrapers, config[\"MODEL_WRAPER\"])(config)\n",
    "    # print(model)\n",
    "    model.load_state_dict(checkpoint['state_dict'])\n",
    "    ld = __import__(\"load_data\")\n",
    "    data = getattr(ld, config[\"DATA_LOADER\"])(config)\n",
    "\n",
    "    f = h5py.File(config[\"PATH_TRAIN\"], 'r')\n",
    "    # parameters = f[\"valid\"][\"parameters\"]\n",
    "    return model, data#, parameters\n",
    "\n",
    "SAVEPATH = \"/home/daniel/Projects/RevMat/LuttingerWard_from_ML/saves/gather_noimp/save_encoder_BS20_2024-06-12/version_1/\"\n",
    "model, validation = load_model_data(SAVEPATH)\n",
    "model.model.eval()\n",
    "random_sample = int(np.random.rand()*len(validation))\n",
    "pred_ae_1 = model.model(torch.tensor(validation[random_sample][0])[None])\n",
    "print(pred_ae_1)\n",
    "print(validation[random_sample][1])\n"
   ]
  }
 ],
 "metadata": {
  "kernelspec": {
   "display_name": "Python 3 (ipykernel)",
   "language": "python",
   "name": "python3"
  },
  "language_info": {
   "codemirror_mode": {
    "name": "ipython",
    "version": 3
   },
   "file_extension": ".py",
   "mimetype": "text/x-python",
   "name": "python",
   "nbconvert_exporter": "python",
   "pygments_lexer": "ipython3",
   "version": "3.9.19"
  }
 },
 "nbformat": 4,
 "nbformat_minor": 5
}
