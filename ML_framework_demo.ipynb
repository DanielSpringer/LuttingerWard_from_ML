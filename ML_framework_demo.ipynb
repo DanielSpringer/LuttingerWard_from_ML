{
 "cells": [
  {
   "cell_type": "code",
   "execution_count": 1,
   "metadata": {},
   "outputs": [],
   "source": [
    "%load_ext autoreload\n",
    "%autoreload 2"
   ]
  },
  {
   "cell_type": "markdown",
   "metadata": {},
   "source": [
    "### Create slurm-script"
   ]
  },
  {
   "cell_type": "code",
   "execution_count": null,
   "metadata": {},
   "outputs": [],
   "source": [
    "# generate slurm\n",
    "from src import util\n",
    "\n",
    "\n",
    "trainer_kwargs = {\n",
    "    'project_name': 'vertex_v2', \n",
    "    'config_name': 'confmod_auto_encoder_v2.json', \n",
    "    'subconfig_name': 'AUTO_ENCODER_VERTEX_V2', \n",
    "    'config_kwargs': {\n",
    "        'subset': 10, \n",
    "        'subset_shuffle': True, \n",
    "        'subset_seed': 42,\n",
    "    },\n",
    "}\n",
    "util.slurm_generate.create(project_name='vertex_v2', script_name='vsc_test', \n",
    "                           pyenv_dir='/gpfs/data/fs71925/shepp123/anaconda3',\n",
    "                           pyenv_name='conda_ml24_1', path_to_repo='/gpfs/data/fs71925/shepp123', \n",
    "                           trainer='VertexTrainer', trainer_kwargs=trainer_kwargs)\n"
   ]
  },
  {
   "cell_type": "code",
   "execution_count": null,
   "metadata": {},
   "outputs": [],
   "source": [
    "# create slurm- and train-script from config-file\n",
    "!python src/util/slurm_generate.py configs/confmod_auto_encoder_v2.json"
   ]
  },
  {
   "cell_type": "markdown",
   "metadata": {},
   "source": [
    "# Demo: Vertex Autoencoder"
   ]
  },
  {
   "cell_type": "markdown",
   "metadata": {},
   "source": [
    "### Load data for inspection"
   ]
  },
  {
   "cell_type": "code",
   "execution_count": null,
   "metadata": {},
   "outputs": [
    {
     "name": "stdout",
     "output_type": "stream",
     "text": [
      "(576, 576, 576)\n"
     ]
    }
   ],
   "source": [
    "from src.load_data import AutoEncoderVertexV2\n",
    "\n",
    "vertex = AutoEncoderVertexV2.load_from_file(path='../frgs/tp0.020000_mu0.080000.h5')\n",
    "print(vertex.shape)"
   ]
  },
  {
   "cell_type": "markdown",
   "metadata": {},
   "source": [
    "### Training"
   ]
  },
  {
   "cell_type": "code",
   "execution_count": null,
   "metadata": {},
   "outputs": [],
   "source": [
    "from src.trainer import TrainerModes, VertexTrainer\n",
    "\n",
    "trainer = VertexTrainer(project_name='vertex_v2', config_name='confmod_auto_encoder_v2.json', subconfig_name='AUTO_ENCODER_VERTEX_V2')"
   ]
  },
  {
   "cell_type": "code",
   "execution_count": null,
   "metadata": {},
   "outputs": [
    {
     "name": "stderr",
     "output_type": "stream",
     "text": [
      "GPU available: True (cuda), used: True\n",
      "TPU available: False, using: 0 TPU cores\n",
      "HPU available: False, using: 0 HPUs\n",
      "LOCAL_RANK: 0 - CUDA_VISIBLE_DEVICES: [0]\n",
      "\n",
      "  | Name      | Type              | Params | Mode \n",
      "--------------------------------------------------------\n",
      "0 | model     | AutoEncoderVertex | 2.9 M  | train\n",
      "1 | criterion | MSELoss           | 0      | train\n",
      "--------------------------------------------------------\n",
      "2.9 M     Trainable params\n",
      "0         Non-trainable params\n",
      "2.9 M     Total params\n",
      "11.691    Total estimated model params size (MB)\n",
      "13        Modules in train mode\n",
      "0         Modules in eval mode\n"
     ]
    },
    {
     "name": "stdout",
     "output_type": "stream",
     "text": [
      "Epoch 0: 100%|██████████| 240/240 [00:09<00:00, 24.94it/s, v_num=0, val_loss=0.490]"
     ]
    },
    {
     "name": "stderr",
     "output_type": "stream",
     "text": [
      "Epoch 0, global step 240: 'val_loss' reached 0.48956 (best 0.48956), saving model to 'saves\\\\vertex_v2\\\\save_AUTO_ENCODER_VERTEX_V2_BS20_2024-11-25\\\\version_0\\\\checkpoints\\\\epoch=0-step=240.ckpt' as top 10\n"
     ]
    },
    {
     "name": "stdout",
     "output_type": "stream",
     "text": [
      "Epoch 1: 100%|██████████| 240/240 [00:02<00:00, 88.51it/s, v_num=0, val_loss=0.489] "
     ]
    },
    {
     "name": "stderr",
     "output_type": "stream",
     "text": [
      "Epoch 1, global step 480: 'val_loss' reached 0.48854 (best 0.48854), saving model to 'saves\\\\vertex_v2\\\\save_AUTO_ENCODER_VERTEX_V2_BS20_2024-11-25\\\\version_0\\\\checkpoints\\\\epoch=1-step=480.ckpt' as top 10\n"
     ]
    },
    {
     "name": "stdout",
     "output_type": "stream",
     "text": [
      "Epoch 2: 100%|██████████| 240/240 [00:02<00:00, 93.13it/s, v_num=0, val_loss=0.493] "
     ]
    },
    {
     "name": "stderr",
     "output_type": "stream",
     "text": [
      "Epoch 2, global step 720: 'val_loss' reached 0.49289 (best 0.48854), saving model to 'saves\\\\vertex_v2\\\\save_AUTO_ENCODER_VERTEX_V2_BS20_2024-11-25\\\\version_0\\\\checkpoints\\\\epoch=2-step=720.ckpt' as top 10\n"
     ]
    },
    {
     "name": "stdout",
     "output_type": "stream",
     "text": [
      "Epoch 3: 100%|██████████| 240/240 [00:02<00:00, 98.57it/s, v_num=0, val_loss=0.492] "
     ]
    },
    {
     "name": "stderr",
     "output_type": "stream",
     "text": [
      "Epoch 3, global step 960: 'val_loss' reached 0.49214 (best 0.48854), saving model to 'saves\\\\vertex_v2\\\\save_AUTO_ENCODER_VERTEX_V2_BS20_2024-11-25\\\\version_0\\\\checkpoints\\\\epoch=3-step=960.ckpt' as top 10\n"
     ]
    },
    {
     "name": "stdout",
     "output_type": "stream",
     "text": [
      "Epoch 4: 100%|██████████| 240/240 [00:02<00:00, 81.90it/s, v_num=0, val_loss=0.486] "
     ]
    },
    {
     "name": "stderr",
     "output_type": "stream",
     "text": [
      "Epoch 4, global step 1200: 'val_loss' reached 0.48563 (best 0.48563), saving model to 'saves\\\\vertex_v2\\\\save_AUTO_ENCODER_VERTEX_V2_BS20_2024-11-25\\\\version_0\\\\checkpoints\\\\epoch=4-step=1200.ckpt' as top 10\n"
     ]
    },
    {
     "name": "stdout",
     "output_type": "stream",
     "text": [
      "Epoch 5: 100%|██████████| 240/240 [00:02<00:00, 93.24it/s, v_num=0, val_loss=0.466] "
     ]
    },
    {
     "name": "stderr",
     "output_type": "stream",
     "text": [
      "Epoch 5, global step 1440: 'val_loss' reached 0.46633 (best 0.46633), saving model to 'saves\\\\vertex_v2\\\\save_AUTO_ENCODER_VERTEX_V2_BS20_2024-11-25\\\\version_0\\\\checkpoints\\\\epoch=5-step=1440.ckpt' as top 10\n"
     ]
    },
    {
     "name": "stdout",
     "output_type": "stream",
     "text": [
      "Epoch 6: 100%|██████████| 240/240 [00:02<00:00, 95.38it/s, v_num=0, val_loss=0.458] "
     ]
    },
    {
     "name": "stderr",
     "output_type": "stream",
     "text": [
      "Epoch 6, global step 1680: 'val_loss' reached 0.45780 (best 0.45780), saving model to 'saves\\\\vertex_v2\\\\save_AUTO_ENCODER_VERTEX_V2_BS20_2024-11-25\\\\version_0\\\\checkpoints\\\\epoch=6-step=1680.ckpt' as top 10\n"
     ]
    },
    {
     "name": "stdout",
     "output_type": "stream",
     "text": [
      "Epoch 7: 100%|██████████| 240/240 [00:02<00:00, 84.58it/s, v_num=0, val_loss=0.408] "
     ]
    },
    {
     "name": "stderr",
     "output_type": "stream",
     "text": [
      "Epoch 7, global step 1920: 'val_loss' reached 0.40806 (best 0.40806), saving model to 'saves\\\\vertex_v2\\\\save_AUTO_ENCODER_VERTEX_V2_BS20_2024-11-25\\\\version_0\\\\checkpoints\\\\epoch=7-step=1920.ckpt' as top 10\n"
     ]
    },
    {
     "name": "stdout",
     "output_type": "stream",
     "text": [
      "Epoch 8: 100%|██████████| 240/240 [00:02<00:00, 93.04it/s, v_num=0, val_loss=0.390] "
     ]
    },
    {
     "name": "stderr",
     "output_type": "stream",
     "text": [
      "Epoch 8, global step 2160: 'val_loss' reached 0.38989 (best 0.38989), saving model to 'saves\\\\vertex_v2\\\\save_AUTO_ENCODER_VERTEX_V2_BS20_2024-11-25\\\\version_0\\\\checkpoints\\\\epoch=8-step=2160.ckpt' as top 10\n"
     ]
    },
    {
     "name": "stdout",
     "output_type": "stream",
     "text": [
      "Epoch 9: 100%|██████████| 240/240 [00:02<00:00, 93.33it/s, v_num=0, val_loss=0.353] "
     ]
    },
    {
     "name": "stderr",
     "output_type": "stream",
     "text": [
      "Epoch 9, global step 2400: 'val_loss' reached 0.35267 (best 0.35267), saving model to 'saves\\\\vertex_v2\\\\save_AUTO_ENCODER_VERTEX_V2_BS20_2024-11-25\\\\version_0\\\\checkpoints\\\\epoch=9-step=2400.ckpt' as top 10\n"
     ]
    },
    {
     "name": "stdout",
     "output_type": "stream",
     "text": [
      "Epoch 10: 100%|██████████| 240/240 [00:02<00:00, 99.33it/s, v_num=0, val_loss=0.316] "
     ]
    },
    {
     "name": "stderr",
     "output_type": "stream",
     "text": [
      "Epoch 10, global step 2640: 'val_loss' reached 0.31567 (best 0.31567), saving model to 'saves\\\\vertex_v2\\\\save_AUTO_ENCODER_VERTEX_V2_BS20_2024-11-25\\\\version_0\\\\checkpoints\\\\epoch=10-step=2640.ckpt' as top 10\n"
     ]
    },
    {
     "name": "stdout",
     "output_type": "stream",
     "text": [
      "Epoch 11: 100%|██████████| 240/240 [00:02<00:00, 95.34it/s, v_num=0, val_loss=0.285] "
     ]
    },
    {
     "name": "stderr",
     "output_type": "stream",
     "text": [
      "Epoch 11, global step 2880: 'val_loss' reached 0.28534 (best 0.28534), saving model to 'saves\\\\vertex_v2\\\\save_AUTO_ENCODER_VERTEX_V2_BS20_2024-11-25\\\\version_0\\\\checkpoints\\\\epoch=11-step=2880.ckpt' as top 10\n"
     ]
    },
    {
     "name": "stdout",
     "output_type": "stream",
     "text": [
      "Epoch 12: 100%|██████████| 240/240 [00:02<00:00, 86.33it/s, v_num=0, val_loss=0.266] "
     ]
    },
    {
     "name": "stderr",
     "output_type": "stream",
     "text": [
      "Epoch 12, global step 3120: 'val_loss' reached 0.26555 (best 0.26555), saving model to 'saves\\\\vertex_v2\\\\save_AUTO_ENCODER_VERTEX_V2_BS20_2024-11-25\\\\version_0\\\\checkpoints\\\\epoch=12-step=3120.ckpt' as top 10\n"
     ]
    },
    {
     "name": "stdout",
     "output_type": "stream",
     "text": [
      "Epoch 13: 100%|██████████| 240/240 [00:02<00:00, 94.59it/s, v_num=0, val_loss=0.258] "
     ]
    },
    {
     "name": "stderr",
     "output_type": "stream",
     "text": [
      "Epoch 13, global step 3360: 'val_loss' reached 0.25793 (best 0.25793), saving model to 'saves\\\\vertex_v2\\\\save_AUTO_ENCODER_VERTEX_V2_BS20_2024-11-25\\\\version_0\\\\checkpoints\\\\epoch=13-step=3360.ckpt' as top 10\n"
     ]
    },
    {
     "name": "stdout",
     "output_type": "stream",
     "text": [
      "Epoch 14: 100%|██████████| 240/240 [00:02<00:00, 97.25it/s, v_num=0, val_loss=0.241] "
     ]
    },
    {
     "name": "stderr",
     "output_type": "stream",
     "text": [
      "Epoch 14, global step 3600: 'val_loss' reached 0.24106 (best 0.24106), saving model to 'saves\\\\vertex_v2\\\\save_AUTO_ENCODER_VERTEX_V2_BS20_2024-11-25\\\\version_0\\\\checkpoints\\\\epoch=14-step=3600.ckpt' as top 10\n"
     ]
    },
    {
     "name": "stdout",
     "output_type": "stream",
     "text": [
      "Epoch 15: 100%|██████████| 240/240 [00:02<00:00, 97.15it/s, v_num=0, val_loss=0.233] "
     ]
    },
    {
     "name": "stderr",
     "output_type": "stream",
     "text": [
      "Epoch 15, global step 3840: 'val_loss' reached 0.23295 (best 0.23295), saving model to 'saves\\\\vertex_v2\\\\save_AUTO_ENCODER_VERTEX_V2_BS20_2024-11-25\\\\version_0\\\\checkpoints\\\\epoch=15-step=3840.ckpt' as top 10\n"
     ]
    },
    {
     "name": "stdout",
     "output_type": "stream",
     "text": [
      "Epoch 16: 100%|██████████| 240/240 [00:02<00:00, 92.90it/s, v_num=0, val_loss=0.224] "
     ]
    },
    {
     "name": "stderr",
     "output_type": "stream",
     "text": [
      "Epoch 16, global step 4080: 'val_loss' reached 0.22385 (best 0.22385), saving model to 'saves\\\\vertex_v2\\\\save_AUTO_ENCODER_VERTEX_V2_BS20_2024-11-25\\\\version_0\\\\checkpoints\\\\epoch=16-step=4080.ckpt' as top 10\n"
     ]
    },
    {
     "name": "stdout",
     "output_type": "stream",
     "text": [
      "Epoch 17: 100%|██████████| 240/240 [00:02<00:00, 99.27it/s, v_num=0, val_loss=0.223] "
     ]
    },
    {
     "name": "stderr",
     "output_type": "stream",
     "text": [
      "Epoch 17, global step 4320: 'val_loss' reached 0.22318 (best 0.22318), saving model to 'saves\\\\vertex_v2\\\\save_AUTO_ENCODER_VERTEX_V2_BS20_2024-11-25\\\\version_0\\\\checkpoints\\\\epoch=17-step=4320.ckpt' as top 10\n"
     ]
    },
    {
     "name": "stdout",
     "output_type": "stream",
     "text": [
      "Epoch 18: 100%|██████████| 240/240 [00:02<00:00, 93.98it/s, v_num=0, val_loss=0.209] "
     ]
    },
    {
     "name": "stderr",
     "output_type": "stream",
     "text": [
      "Epoch 18, global step 4560: 'val_loss' reached 0.20857 (best 0.20857), saving model to 'saves\\\\vertex_v2\\\\save_AUTO_ENCODER_VERTEX_V2_BS20_2024-11-25\\\\version_0\\\\checkpoints\\\\epoch=18-step=4560.ckpt' as top 10\n"
     ]
    },
    {
     "name": "stdout",
     "output_type": "stream",
     "text": [
      "Epoch 19: 100%|██████████| 240/240 [00:02<00:00, 98.09it/s, v_num=0, val_loss=0.198] "
     ]
    },
    {
     "name": "stderr",
     "output_type": "stream",
     "text": [
      "Epoch 19, global step 4800: 'val_loss' reached 0.19832 (best 0.19832), saving model to 'saves\\\\vertex_v2\\\\save_AUTO_ENCODER_VERTEX_V2_BS20_2024-11-25\\\\version_0\\\\checkpoints\\\\epoch=19-step=4800.ckpt' as top 10\n"
     ]
    },
    {
     "name": "stdout",
     "output_type": "stream",
     "text": [
      "Epoch 20: 100%|██████████| 240/240 [00:02<00:00, 96.93it/s, v_num=0, val_loss=0.191] "
     ]
    },
    {
     "name": "stderr",
     "output_type": "stream",
     "text": [
      "Epoch 20, global step 5040: 'val_loss' reached 0.19146 (best 0.19146), saving model to 'saves\\\\vertex_v2\\\\save_AUTO_ENCODER_VERTEX_V2_BS20_2024-11-25\\\\version_0\\\\checkpoints\\\\epoch=20-step=5040.ckpt' as top 10\n"
     ]
    },
    {
     "name": "stdout",
     "output_type": "stream",
     "text": [
      "Epoch 21: 100%|██████████| 240/240 [00:02<00:00, 84.50it/s, v_num=0, val_loss=0.190]"
     ]
    },
    {
     "name": "stderr",
     "output_type": "stream",
     "text": [
      "Epoch 21, global step 5280: 'val_loss' reached 0.18958 (best 0.18958), saving model to 'saves\\\\vertex_v2\\\\save_AUTO_ENCODER_VERTEX_V2_BS20_2024-11-25\\\\version_0\\\\checkpoints\\\\epoch=21-step=5280.ckpt' as top 10\n"
     ]
    },
    {
     "name": "stdout",
     "output_type": "stream",
     "text": [
      "Epoch 22: 100%|██████████| 240/240 [00:02<00:00, 95.65it/s, v_num=0, val_loss=0.179] "
     ]
    },
    {
     "name": "stderr",
     "output_type": "stream",
     "text": [
      "Epoch 22, global step 5520: 'val_loss' reached 0.17933 (best 0.17933), saving model to 'saves\\\\vertex_v2\\\\save_AUTO_ENCODER_VERTEX_V2_BS20_2024-11-25\\\\version_0\\\\checkpoints\\\\epoch=22-step=5520.ckpt' as top 10\n"
     ]
    },
    {
     "name": "stdout",
     "output_type": "stream",
     "text": [
      "Epoch 23: 100%|██████████| 240/240 [00:02<00:00, 98.41it/s, v_num=0, val_loss=0.178] "
     ]
    },
    {
     "name": "stderr",
     "output_type": "stream",
     "text": [
      "Epoch 23, global step 5760: 'val_loss' reached 0.17795 (best 0.17795), saving model to 'saves\\\\vertex_v2\\\\save_AUTO_ENCODER_VERTEX_V2_BS20_2024-11-25\\\\version_0\\\\checkpoints\\\\epoch=23-step=5760.ckpt' as top 10\n"
     ]
    },
    {
     "name": "stdout",
     "output_type": "stream",
     "text": [
      "Epoch 24: 100%|██████████| 240/240 [00:02<00:00, 93.72it/s, v_num=0, val_loss=0.177] "
     ]
    },
    {
     "name": "stderr",
     "output_type": "stream",
     "text": [
      "Epoch 24, global step 6000: 'val_loss' reached 0.17734 (best 0.17734), saving model to 'saves\\\\vertex_v2\\\\save_AUTO_ENCODER_VERTEX_V2_BS20_2024-11-25\\\\version_0\\\\checkpoints\\\\epoch=24-step=6000.ckpt' as top 10\n"
     ]
    },
    {
     "name": "stdout",
     "output_type": "stream",
     "text": [
      "Epoch 25: 100%|██████████| 240/240 [00:02<00:00, 98.91it/s, v_num=0, val_loss=0.166] "
     ]
    },
    {
     "name": "stderr",
     "output_type": "stream",
     "text": [
      "Epoch 25, global step 6240: 'val_loss' reached 0.16633 (best 0.16633), saving model to 'saves\\\\vertex_v2\\\\save_AUTO_ENCODER_VERTEX_V2_BS20_2024-11-25\\\\version_0\\\\checkpoints\\\\epoch=25-step=6240.ckpt' as top 10\n"
     ]
    },
    {
     "name": "stdout",
     "output_type": "stream",
     "text": [
      "Epoch 26: 100%|██████████| 240/240 [00:02<00:00, 93.25it/s, v_num=0, val_loss=0.164] "
     ]
    },
    {
     "name": "stderr",
     "output_type": "stream",
     "text": [
      "Epoch 26, global step 6480: 'val_loss' reached 0.16439 (best 0.16439), saving model to 'saves\\\\vertex_v2\\\\save_AUTO_ENCODER_VERTEX_V2_BS20_2024-11-25\\\\version_0\\\\checkpoints\\\\epoch=26-step=6480.ckpt' as top 10\n"
     ]
    },
    {
     "name": "stdout",
     "output_type": "stream",
     "text": [
      "Epoch 27: 100%|██████████| 240/240 [00:02<00:00, 97.43it/s, v_num=0, val_loss=0.168] "
     ]
    },
    {
     "name": "stderr",
     "output_type": "stream",
     "text": [
      "Epoch 27, global step 6720: 'val_loss' reached 0.16808 (best 0.16439), saving model to 'saves\\\\vertex_v2\\\\save_AUTO_ENCODER_VERTEX_V2_BS20_2024-11-25\\\\version_0\\\\checkpoints\\\\epoch=27-step=6720.ckpt' as top 10\n"
     ]
    },
    {
     "name": "stdout",
     "output_type": "stream",
     "text": [
      "Epoch 28: 100%|██████████| 240/240 [00:02<00:00, 92.76it/s, v_num=0, val_loss=0.154] "
     ]
    },
    {
     "name": "stderr",
     "output_type": "stream",
     "text": [
      "Epoch 28, global step 6960: 'val_loss' reached 0.15405 (best 0.15405), saving model to 'saves\\\\vertex_v2\\\\save_AUTO_ENCODER_VERTEX_V2_BS20_2024-11-25\\\\version_0\\\\checkpoints\\\\epoch=28-step=6960.ckpt' as top 10\n"
     ]
    },
    {
     "name": "stdout",
     "output_type": "stream",
     "text": [
      "Epoch 29: 100%|██████████| 240/240 [00:02<00:00, 95.21it/s, v_num=0, val_loss=0.150] "
     ]
    },
    {
     "name": "stderr",
     "output_type": "stream",
     "text": [
      "Epoch 29, global step 7200: 'val_loss' reached 0.15000 (best 0.15000), saving model to 'saves\\\\vertex_v2\\\\save_AUTO_ENCODER_VERTEX_V2_BS20_2024-11-25\\\\version_0\\\\checkpoints\\\\epoch=29-step=7200.ckpt' as top 10\n"
     ]
    },
    {
     "name": "stdout",
     "output_type": "stream",
     "text": [
      "Epoch 30: 100%|██████████| 240/240 [00:02<00:00, 96.20it/s, v_num=0, val_loss=0.149] "
     ]
    },
    {
     "name": "stderr",
     "output_type": "stream",
     "text": [
      "Epoch 30, global step 7440: 'val_loss' reached 0.14905 (best 0.14905), saving model to 'saves\\\\vertex_v2\\\\save_AUTO_ENCODER_VERTEX_V2_BS20_2024-11-25\\\\version_0\\\\checkpoints\\\\epoch=30-step=7440.ckpt' as top 10\n"
     ]
    },
    {
     "name": "stdout",
     "output_type": "stream",
     "text": [
      "Epoch 31: 100%|██████████| 240/240 [00:02<00:00, 95.89it/s, v_num=0, val_loss=0.144] "
     ]
    },
    {
     "name": "stderr",
     "output_type": "stream",
     "text": [
      "Epoch 31, global step 7680: 'val_loss' reached 0.14386 (best 0.14386), saving model to 'saves\\\\vertex_v2\\\\save_AUTO_ENCODER_VERTEX_V2_BS20_2024-11-25\\\\version_0\\\\checkpoints\\\\epoch=31-step=7680.ckpt' as top 10\n"
     ]
    },
    {
     "name": "stdout",
     "output_type": "stream",
     "text": [
      "Epoch 32: 100%|██████████| 240/240 [00:02<00:00, 98.98it/s, v_num=0, val_loss=0.139] "
     ]
    },
    {
     "name": "stderr",
     "output_type": "stream",
     "text": [
      "Epoch 32, global step 7920: 'val_loss' reached 0.13910 (best 0.13910), saving model to 'saves\\\\vertex_v2\\\\save_AUTO_ENCODER_VERTEX_V2_BS20_2024-11-25\\\\version_0\\\\checkpoints\\\\epoch=32-step=7920.ckpt' as top 10\n"
     ]
    },
    {
     "name": "stdout",
     "output_type": "stream",
     "text": [
      "Epoch 33: 100%|██████████| 240/240 [00:02<00:00, 95.93it/s, v_num=0, val_loss=0.136] "
     ]
    },
    {
     "name": "stderr",
     "output_type": "stream",
     "text": [
      "Epoch 33, global step 8160: 'val_loss' reached 0.13650 (best 0.13650), saving model to 'saves\\\\vertex_v2\\\\save_AUTO_ENCODER_VERTEX_V2_BS20_2024-11-25\\\\version_0\\\\checkpoints\\\\epoch=33-step=8160.ckpt' as top 10\n"
     ]
    },
    {
     "name": "stdout",
     "output_type": "stream",
     "text": [
      "Epoch 34: 100%|██████████| 240/240 [00:02<00:00, 89.45it/s, v_num=0, val_loss=0.137] "
     ]
    },
    {
     "name": "stderr",
     "output_type": "stream",
     "text": [
      "Epoch 34, global step 8400: 'val_loss' reached 0.13683 (best 0.13650), saving model to 'saves\\\\vertex_v2\\\\save_AUTO_ENCODER_VERTEX_V2_BS20_2024-11-25\\\\version_0\\\\checkpoints\\\\epoch=34-step=8400.ckpt' as top 10\n"
     ]
    },
    {
     "name": "stdout",
     "output_type": "stream",
     "text": [
      "Epoch 35: 100%|██████████| 240/240 [00:02<00:00, 95.12it/s, v_num=0, val_loss=0.129] "
     ]
    },
    {
     "name": "stderr",
     "output_type": "stream",
     "text": [
      "Epoch 35, global step 8640: 'val_loss' reached 0.12921 (best 0.12921), saving model to 'saves\\\\vertex_v2\\\\save_AUTO_ENCODER_VERTEX_V2_BS20_2024-11-25\\\\version_0\\\\checkpoints\\\\epoch=35-step=8640.ckpt' as top 10\n"
     ]
    },
    {
     "name": "stdout",
     "output_type": "stream",
     "text": [
      "Epoch 36: 100%|██████████| 240/240 [00:02<00:00, 90.37it/s, v_num=0, val_loss=0.124] "
     ]
    },
    {
     "name": "stderr",
     "output_type": "stream",
     "text": [
      "Epoch 36, global step 8880: 'val_loss' reached 0.12399 (best 0.12399), saving model to 'saves\\\\vertex_v2\\\\save_AUTO_ENCODER_VERTEX_V2_BS20_2024-11-25\\\\version_0\\\\checkpoints\\\\epoch=36-step=8880.ckpt' as top 10\n"
     ]
    },
    {
     "name": "stdout",
     "output_type": "stream",
     "text": [
      "Epoch 37: 100%|██████████| 240/240 [00:02<00:00, 92.74it/s, v_num=0, val_loss=0.126] "
     ]
    },
    {
     "name": "stderr",
     "output_type": "stream",
     "text": [
      "Epoch 37, global step 9120: 'val_loss' reached 0.12587 (best 0.12399), saving model to 'saves\\\\vertex_v2\\\\save_AUTO_ENCODER_VERTEX_V2_BS20_2024-11-25\\\\version_0\\\\checkpoints\\\\epoch=37-step=9120.ckpt' as top 10\n"
     ]
    },
    {
     "name": "stdout",
     "output_type": "stream",
     "text": [
      "Epoch 38: 100%|██████████| 240/240 [00:02<00:00, 94.44it/s, v_num=0, val_loss=0.121] "
     ]
    },
    {
     "name": "stderr",
     "output_type": "stream",
     "text": [
      "Epoch 38, global step 9360: 'val_loss' reached 0.12051 (best 0.12051), saving model to 'saves\\\\vertex_v2\\\\save_AUTO_ENCODER_VERTEX_V2_BS20_2024-11-25\\\\version_0\\\\checkpoints\\\\epoch=38-step=9360.ckpt' as top 10\n"
     ]
    },
    {
     "name": "stdout",
     "output_type": "stream",
     "text": [
      "Epoch 39: 100%|██████████| 240/240 [00:02<00:00, 97.28it/s, v_num=0, val_loss=0.117] "
     ]
    },
    {
     "name": "stderr",
     "output_type": "stream",
     "text": [
      "Epoch 39, global step 9600: 'val_loss' reached 0.11677 (best 0.11677), saving model to 'saves\\\\vertex_v2\\\\save_AUTO_ENCODER_VERTEX_V2_BS20_2024-11-25\\\\version_0\\\\checkpoints\\\\epoch=39-step=9600.ckpt' as top 10\n"
     ]
    },
    {
     "name": "stdout",
     "output_type": "stream",
     "text": [
      "Epoch 40: 100%|██████████| 240/240 [00:02<00:00, 96.37it/s, v_num=0, val_loss=0.115] "
     ]
    },
    {
     "name": "stderr",
     "output_type": "stream",
     "text": [
      "Epoch 40, global step 9840: 'val_loss' reached 0.11514 (best 0.11514), saving model to 'saves\\\\vertex_v2\\\\save_AUTO_ENCODER_VERTEX_V2_BS20_2024-11-25\\\\version_0\\\\checkpoints\\\\epoch=40-step=9840.ckpt' as top 10\n"
     ]
    },
    {
     "name": "stdout",
     "output_type": "stream",
     "text": [
      "Epoch 41: 100%|██████████| 240/240 [00:02<00:00, 95.52it/s, v_num=0, val_loss=0.116] "
     ]
    },
    {
     "name": "stderr",
     "output_type": "stream",
     "text": [
      "Epoch 41, global step 10080: 'val_loss' reached 0.11576 (best 0.11514), saving model to 'saves\\\\vertex_v2\\\\save_AUTO_ENCODER_VERTEX_V2_BS20_2024-11-25\\\\version_0\\\\checkpoints\\\\epoch=41-step=10080.ckpt' as top 10\n"
     ]
    },
    {
     "name": "stdout",
     "output_type": "stream",
     "text": [
      "Epoch 42: 100%|██████████| 240/240 [00:02<00:00, 91.66it/s, v_num=0, val_loss=0.111] "
     ]
    },
    {
     "name": "stderr",
     "output_type": "stream",
     "text": [
      "Epoch 42, global step 10320: 'val_loss' reached 0.11104 (best 0.11104), saving model to 'saves\\\\vertex_v2\\\\save_AUTO_ENCODER_VERTEX_V2_BS20_2024-11-25\\\\version_0\\\\checkpoints\\\\epoch=42-step=10320.ckpt' as top 10\n"
     ]
    },
    {
     "name": "stdout",
     "output_type": "stream",
     "text": [
      "Epoch 43: 100%|██████████| 240/240 [00:02<00:00, 89.71it/s, v_num=0, val_loss=0.109] "
     ]
    },
    {
     "name": "stderr",
     "output_type": "stream",
     "text": [
      "Epoch 43, global step 10560: 'val_loss' reached 0.10895 (best 0.10895), saving model to 'saves\\\\vertex_v2\\\\save_AUTO_ENCODER_VERTEX_V2_BS20_2024-11-25\\\\version_0\\\\checkpoints\\\\epoch=43-step=10560.ckpt' as top 10\n"
     ]
    },
    {
     "name": "stdout",
     "output_type": "stream",
     "text": [
      "Epoch 44: 100%|██████████| 240/240 [00:02<00:00, 96.69it/s, v_num=0, val_loss=0.111] "
     ]
    },
    {
     "name": "stderr",
     "output_type": "stream",
     "text": [
      "Epoch 44, global step 10800: 'val_loss' reached 0.11076 (best 0.10895), saving model to 'saves\\\\vertex_v2\\\\save_AUTO_ENCODER_VERTEX_V2_BS20_2024-11-25\\\\version_0\\\\checkpoints\\\\epoch=44-step=10800.ckpt' as top 10\n"
     ]
    },
    {
     "name": "stdout",
     "output_type": "stream",
     "text": [
      "Epoch 45: 100%|██████████| 240/240 [00:02<00:00, 98.20it/s, v_num=0, val_loss=0.107] "
     ]
    },
    {
     "name": "stderr",
     "output_type": "stream",
     "text": [
      "Epoch 45, global step 11040: 'val_loss' reached 0.10671 (best 0.10671), saving model to 'saves\\\\vertex_v2\\\\save_AUTO_ENCODER_VERTEX_V2_BS20_2024-11-25\\\\version_0\\\\checkpoints\\\\epoch=45-step=11040.ckpt' as top 10\n"
     ]
    },
    {
     "name": "stdout",
     "output_type": "stream",
     "text": [
      "Epoch 46: 100%|██████████| 240/240 [00:02<00:00, 92.16it/s, v_num=0, val_loss=0.106] "
     ]
    },
    {
     "name": "stderr",
     "output_type": "stream",
     "text": [
      "Epoch 46, global step 11280: 'val_loss' reached 0.10577 (best 0.10577), saving model to 'saves\\\\vertex_v2\\\\save_AUTO_ENCODER_VERTEX_V2_BS20_2024-11-25\\\\version_0\\\\checkpoints\\\\epoch=46-step=11280.ckpt' as top 10\n"
     ]
    },
    {
     "name": "stdout",
     "output_type": "stream",
     "text": [
      "Epoch 47: 100%|██████████| 240/240 [00:02<00:00, 95.39it/s, v_num=0, val_loss=0.103] "
     ]
    },
    {
     "name": "stderr",
     "output_type": "stream",
     "text": [
      "Epoch 47, global step 11520: 'val_loss' reached 0.10321 (best 0.10321), saving model to 'saves\\\\vertex_v2\\\\save_AUTO_ENCODER_VERTEX_V2_BS20_2024-11-25\\\\version_0\\\\checkpoints\\\\epoch=47-step=11520.ckpt' as top 10\n"
     ]
    },
    {
     "name": "stdout",
     "output_type": "stream",
     "text": [
      "Epoch 48: 100%|██████████| 240/240 [00:02<00:00, 95.50it/s, v_num=0, val_loss=0.101] "
     ]
    },
    {
     "name": "stderr",
     "output_type": "stream",
     "text": [
      "Epoch 48, global step 11760: 'val_loss' reached 0.10135 (best 0.10135), saving model to 'saves\\\\vertex_v2\\\\save_AUTO_ENCODER_VERTEX_V2_BS20_2024-11-25\\\\version_0\\\\checkpoints\\\\epoch=48-step=11760.ckpt' as top 10\n"
     ]
    },
    {
     "name": "stdout",
     "output_type": "stream",
     "text": [
      "Epoch 49: 100%|██████████| 240/240 [00:02<00:00, 98.25it/s, v_num=0, val_loss=0.0997]"
     ]
    },
    {
     "name": "stderr",
     "output_type": "stream",
     "text": [
      "Epoch 49, global step 12000: 'val_loss' reached 0.09967 (best 0.09967), saving model to 'saves\\\\vertex_v2\\\\save_AUTO_ENCODER_VERTEX_V2_BS20_2024-11-25\\\\version_0\\\\checkpoints\\\\epoch=49-step=12000.ckpt' as top 10\n"
     ]
    },
    {
     "name": "stdout",
     "output_type": "stream",
     "text": [
      "Epoch 50: 100%|██████████| 240/240 [00:02<00:00, 96.76it/s, v_num=0, val_loss=0.099]  "
     ]
    },
    {
     "name": "stderr",
     "output_type": "stream",
     "text": [
      "Epoch 50, global step 12240: 'val_loss' reached 0.09898 (best 0.09898), saving model to 'saves\\\\vertex_v2\\\\save_AUTO_ENCODER_VERTEX_V2_BS20_2024-11-25\\\\version_0\\\\checkpoints\\\\epoch=50-step=12240.ckpt' as top 10\n"
     ]
    },
    {
     "name": "stdout",
     "output_type": "stream",
     "text": [
      "Epoch 51: 100%|██████████| 240/240 [00:02<00:00, 97.69it/s, v_num=0, val_loss=0.0973]"
     ]
    },
    {
     "name": "stderr",
     "output_type": "stream",
     "text": [
      "Epoch 51, global step 12480: 'val_loss' reached 0.09730 (best 0.09730), saving model to 'saves\\\\vertex_v2\\\\save_AUTO_ENCODER_VERTEX_V2_BS20_2024-11-25\\\\version_0\\\\checkpoints\\\\epoch=51-step=12480.ckpt' as top 10\n"
     ]
    },
    {
     "name": "stdout",
     "output_type": "stream",
     "text": [
      "Epoch 52: 100%|██████████| 240/240 [00:02<00:00, 95.26it/s, v_num=0, val_loss=0.0965] "
     ]
    },
    {
     "name": "stderr",
     "output_type": "stream",
     "text": [
      "Epoch 52, global step 12720: 'val_loss' reached 0.09648 (best 0.09648), saving model to 'saves\\\\vertex_v2\\\\save_AUTO_ENCODER_VERTEX_V2_BS20_2024-11-25\\\\version_0\\\\checkpoints\\\\epoch=52-step=12720.ckpt' as top 10\n"
     ]
    },
    {
     "name": "stdout",
     "output_type": "stream",
     "text": [
      "Epoch 53: 100%|██████████| 240/240 [00:02<00:00, 97.55it/s, v_num=0, val_loss=0.0976] "
     ]
    },
    {
     "name": "stderr",
     "output_type": "stream",
     "text": [
      "Epoch 53, global step 12960: 'val_loss' reached 0.09763 (best 0.09648), saving model to 'saves\\\\vertex_v2\\\\save_AUTO_ENCODER_VERTEX_V2_BS20_2024-11-25\\\\version_0\\\\checkpoints\\\\epoch=53-step=12960.ckpt' as top 10\n"
     ]
    },
    {
     "name": "stdout",
     "output_type": "stream",
     "text": [
      "Epoch 54: 100%|██████████| 240/240 [00:02<00:00, 98.46it/s, v_num=0, val_loss=0.0945] "
     ]
    },
    {
     "name": "stderr",
     "output_type": "stream",
     "text": [
      "Epoch 54, global step 13200: 'val_loss' reached 0.09452 (best 0.09452), saving model to 'saves\\\\vertex_v2\\\\save_AUTO_ENCODER_VERTEX_V2_BS20_2024-11-25\\\\version_0\\\\checkpoints\\\\epoch=54-step=13200.ckpt' as top 10\n"
     ]
    },
    {
     "name": "stdout",
     "output_type": "stream",
     "text": [
      "Epoch 55: 100%|██████████| 240/240 [00:02<00:00, 96.40it/s, v_num=0, val_loss=0.0927] "
     ]
    },
    {
     "name": "stderr",
     "output_type": "stream",
     "text": [
      "Epoch 55, global step 13440: 'val_loss' reached 0.09274 (best 0.09274), saving model to 'saves\\\\vertex_v2\\\\save_AUTO_ENCODER_VERTEX_V2_BS20_2024-11-25\\\\version_0\\\\checkpoints\\\\epoch=55-step=13440.ckpt' as top 10\n"
     ]
    },
    {
     "name": "stdout",
     "output_type": "stream",
     "text": [
      "Epoch 56: 100%|██████████| 240/240 [00:02<00:00, 95.43it/s, v_num=0, val_loss=0.0948] "
     ]
    },
    {
     "name": "stderr",
     "output_type": "stream",
     "text": [
      "Epoch 56, global step 13680: 'val_loss' reached 0.09477 (best 0.09274), saving model to 'saves\\\\vertex_v2\\\\save_AUTO_ENCODER_VERTEX_V2_BS20_2024-11-25\\\\version_0\\\\checkpoints\\\\epoch=56-step=13680.ckpt' as top 10\n"
     ]
    },
    {
     "name": "stdout",
     "output_type": "stream",
     "text": [
      "Epoch 57: 100%|██████████| 240/240 [00:02<00:00, 97.47it/s, v_num=0, val_loss=0.0881] "
     ]
    },
    {
     "name": "stderr",
     "output_type": "stream",
     "text": [
      "Epoch 57, global step 13920: 'val_loss' reached 0.08815 (best 0.08815), saving model to 'saves\\\\vertex_v2\\\\save_AUTO_ENCODER_VERTEX_V2_BS20_2024-11-25\\\\version_0\\\\checkpoints\\\\epoch=57-step=13920.ckpt' as top 10\n"
     ]
    },
    {
     "name": "stdout",
     "output_type": "stream",
     "text": [
      "Epoch 58: 100%|██████████| 240/240 [00:02<00:00, 90.61it/s, v_num=0, val_loss=0.0875] "
     ]
    },
    {
     "name": "stderr",
     "output_type": "stream",
     "text": [
      "Epoch 58, global step 14160: 'val_loss' reached 0.08754 (best 0.08754), saving model to 'saves\\\\vertex_v2\\\\save_AUTO_ENCODER_VERTEX_V2_BS20_2024-11-25\\\\version_0\\\\checkpoints\\\\epoch=58-step=14160.ckpt' as top 10\n"
     ]
    },
    {
     "name": "stdout",
     "output_type": "stream",
     "text": [
      "Epoch 59: 100%|██████████| 240/240 [00:02<00:00, 97.57it/s, v_num=0, val_loss=0.0882] "
     ]
    },
    {
     "name": "stderr",
     "output_type": "stream",
     "text": [
      "Epoch 59, global step 14400: 'val_loss' reached 0.08821 (best 0.08754), saving model to 'saves\\\\vertex_v2\\\\save_AUTO_ENCODER_VERTEX_V2_BS20_2024-11-25\\\\version_0\\\\checkpoints\\\\epoch=59-step=14400.ckpt' as top 10\n"
     ]
    },
    {
     "name": "stdout",
     "output_type": "stream",
     "text": [
      "Epoch 60: 100%|██████████| 240/240 [00:02<00:00, 97.90it/s, v_num=0, val_loss=0.0886] "
     ]
    },
    {
     "name": "stderr",
     "output_type": "stream",
     "text": [
      "Epoch 60, global step 14640: 'val_loss' reached 0.08857 (best 0.08754), saving model to 'saves\\\\vertex_v2\\\\save_AUTO_ENCODER_VERTEX_V2_BS20_2024-11-25\\\\version_0\\\\checkpoints\\\\epoch=60-step=14640.ckpt' as top 10\n"
     ]
    },
    {
     "name": "stdout",
     "output_type": "stream",
     "text": [
      "Epoch 61: 100%|██████████| 240/240 [00:02<00:00, 84.24it/s, v_num=0, val_loss=0.086] "
     ]
    },
    {
     "name": "stderr",
     "output_type": "stream",
     "text": [
      "Epoch 61, global step 14880: 'val_loss' reached 0.08599 (best 0.08599), saving model to 'saves\\\\vertex_v2\\\\save_AUTO_ENCODER_VERTEX_V2_BS20_2024-11-25\\\\version_0\\\\checkpoints\\\\epoch=61-step=14880.ckpt' as top 10\n"
     ]
    },
    {
     "name": "stdout",
     "output_type": "stream",
     "text": [
      "Epoch 62: 100%|██████████| 240/240 [00:02<00:00, 94.99it/s, v_num=0, val_loss=0.0863]"
     ]
    },
    {
     "name": "stderr",
     "output_type": "stream",
     "text": [
      "Epoch 62, global step 15120: 'val_loss' reached 0.08625 (best 0.08599), saving model to 'saves\\\\vertex_v2\\\\save_AUTO_ENCODER_VERTEX_V2_BS20_2024-11-25\\\\version_0\\\\checkpoints\\\\epoch=62-step=15120.ckpt' as top 10\n"
     ]
    },
    {
     "name": "stdout",
     "output_type": "stream",
     "text": [
      "Epoch 63: 100%|██████████| 240/240 [00:02<00:00, 90.82it/s, v_num=0, val_loss=0.0863] "
     ]
    },
    {
     "name": "stderr",
     "output_type": "stream",
     "text": [
      "Epoch 63, global step 15360: 'val_loss' reached 0.08626 (best 0.08599), saving model to 'saves\\\\vertex_v2\\\\save_AUTO_ENCODER_VERTEX_V2_BS20_2024-11-25\\\\version_0\\\\checkpoints\\\\epoch=63-step=15360.ckpt' as top 10\n"
     ]
    },
    {
     "name": "stdout",
     "output_type": "stream",
     "text": [
      "Epoch 64: 100%|██████████| 240/240 [00:02<00:00, 93.03it/s, v_num=0, val_loss=0.0827] "
     ]
    },
    {
     "name": "stderr",
     "output_type": "stream",
     "text": [
      "Epoch 64, global step 15600: 'val_loss' reached 0.08274 (best 0.08274), saving model to 'saves\\\\vertex_v2\\\\save_AUTO_ENCODER_VERTEX_V2_BS20_2024-11-25\\\\version_0\\\\checkpoints\\\\epoch=64-step=15600.ckpt' as top 10\n"
     ]
    },
    {
     "name": "stdout",
     "output_type": "stream",
     "text": [
      "Epoch 65: 100%|██████████| 240/240 [00:02<00:00, 90.33it/s, v_num=0, val_loss=0.0823] "
     ]
    },
    {
     "name": "stderr",
     "output_type": "stream",
     "text": [
      "Epoch 65, global step 15840: 'val_loss' reached 0.08230 (best 0.08230), saving model to 'saves\\\\vertex_v2\\\\save_AUTO_ENCODER_VERTEX_V2_BS20_2024-11-25\\\\version_0\\\\checkpoints\\\\epoch=65-step=15840.ckpt' as top 10\n"
     ]
    },
    {
     "name": "stdout",
     "output_type": "stream",
     "text": [
      "Epoch 66: 100%|██████████| 240/240 [00:02<00:00, 83.31it/s, v_num=0, val_loss=0.0857] "
     ]
    },
    {
     "name": "stderr",
     "output_type": "stream",
     "text": [
      "Epoch 66, global step 16080: 'val_loss' reached 0.08574 (best 0.08230), saving model to 'saves\\\\vertex_v2\\\\save_AUTO_ENCODER_VERTEX_V2_BS20_2024-11-25\\\\version_0\\\\checkpoints\\\\epoch=66-step=16080.ckpt' as top 10\n"
     ]
    },
    {
     "name": "stdout",
     "output_type": "stream",
     "text": [
      "Epoch 67: 100%|██████████| 240/240 [00:02<00:00, 97.32it/s, v_num=0, val_loss=0.0826] "
     ]
    },
    {
     "name": "stderr",
     "output_type": "stream",
     "text": [
      "Epoch 67, global step 16320: 'val_loss' reached 0.08262 (best 0.08230), saving model to 'saves\\\\vertex_v2\\\\save_AUTO_ENCODER_VERTEX_V2_BS20_2024-11-25\\\\version_0\\\\checkpoints\\\\epoch=67-step=16320.ckpt' as top 10\n"
     ]
    },
    {
     "name": "stdout",
     "output_type": "stream",
     "text": [
      "Epoch 68: 100%|██████████| 240/240 [00:02<00:00, 93.77it/s, v_num=0, val_loss=0.081]  "
     ]
    },
    {
     "name": "stderr",
     "output_type": "stream",
     "text": [
      "Epoch 68, global step 16560: 'val_loss' reached 0.08095 (best 0.08095), saving model to 'saves\\\\vertex_v2\\\\save_AUTO_ENCODER_VERTEX_V2_BS20_2024-11-25\\\\version_0\\\\checkpoints\\\\epoch=68-step=16560.ckpt' as top 10\n"
     ]
    },
    {
     "name": "stdout",
     "output_type": "stream",
     "text": [
      "Epoch 69: 100%|██████████| 240/240 [00:02<00:00, 95.30it/s, v_num=0, val_loss=0.0798]"
     ]
    },
    {
     "name": "stderr",
     "output_type": "stream",
     "text": [
      "Epoch 69, global step 16800: 'val_loss' reached 0.07976 (best 0.07976), saving model to 'saves\\\\vertex_v2\\\\save_AUTO_ENCODER_VERTEX_V2_BS20_2024-11-25\\\\version_0\\\\checkpoints\\\\epoch=69-step=16800.ckpt' as top 10\n"
     ]
    },
    {
     "name": "stdout",
     "output_type": "stream",
     "text": [
      "Epoch 70: 100%|██████████| 240/240 [00:02<00:00, 94.71it/s, v_num=0, val_loss=0.0788] "
     ]
    },
    {
     "name": "stderr",
     "output_type": "stream",
     "text": [
      "Epoch 70, global step 17040: 'val_loss' reached 0.07882 (best 0.07882), saving model to 'saves\\\\vertex_v2\\\\save_AUTO_ENCODER_VERTEX_V2_BS20_2024-11-25\\\\version_0\\\\checkpoints\\\\epoch=70-step=17040.ckpt' as top 10\n"
     ]
    },
    {
     "name": "stdout",
     "output_type": "stream",
     "text": [
      "Epoch 71: 100%|██████████| 240/240 [00:02<00:00, 92.83it/s, v_num=0, val_loss=0.0776] "
     ]
    },
    {
     "name": "stderr",
     "output_type": "stream",
     "text": [
      "Epoch 71, global step 17280: 'val_loss' reached 0.07760 (best 0.07760), saving model to 'saves\\\\vertex_v2\\\\save_AUTO_ENCODER_VERTEX_V2_BS20_2024-11-25\\\\version_0\\\\checkpoints\\\\epoch=71-step=17280.ckpt' as top 10\n"
     ]
    },
    {
     "name": "stdout",
     "output_type": "stream",
     "text": [
      "Epoch 72: 100%|██████████| 240/240 [00:02<00:00, 89.95it/s, v_num=0, val_loss=0.0787] "
     ]
    },
    {
     "name": "stderr",
     "output_type": "stream",
     "text": [
      "Epoch 72, global step 17520: 'val_loss' reached 0.07874 (best 0.07760), saving model to 'saves\\\\vertex_v2\\\\save_AUTO_ENCODER_VERTEX_V2_BS20_2024-11-25\\\\version_0\\\\checkpoints\\\\epoch=72-step=17520.ckpt' as top 10\n"
     ]
    },
    {
     "name": "stdout",
     "output_type": "stream",
     "text": [
      "Epoch 73: 100%|██████████| 240/240 [00:02<00:00, 94.01it/s, v_num=0, val_loss=0.0752] "
     ]
    },
    {
     "name": "stderr",
     "output_type": "stream",
     "text": [
      "Epoch 73, global step 17760: 'val_loss' reached 0.07518 (best 0.07518), saving model to 'saves\\\\vertex_v2\\\\save_AUTO_ENCODER_VERTEX_V2_BS20_2024-11-25\\\\version_0\\\\checkpoints\\\\epoch=73-step=17760.ckpt' as top 10\n"
     ]
    },
    {
     "name": "stdout",
     "output_type": "stream",
     "text": [
      "Epoch 74: 100%|██████████| 240/240 [00:02<00:00, 92.40it/s, v_num=0, val_loss=0.0788] "
     ]
    },
    {
     "name": "stderr",
     "output_type": "stream",
     "text": [
      "Epoch 74, global step 18000: 'val_loss' reached 0.07876 (best 0.07518), saving model to 'saves\\\\vertex_v2\\\\save_AUTO_ENCODER_VERTEX_V2_BS20_2024-11-25\\\\version_0\\\\checkpoints\\\\epoch=74-step=18000.ckpt' as top 10\n"
     ]
    },
    {
     "name": "stdout",
     "output_type": "stream",
     "text": [
      "Epoch 75: 100%|██████████| 240/240 [00:02<00:00, 94.58it/s, v_num=0, val_loss=0.077]  "
     ]
    },
    {
     "name": "stderr",
     "output_type": "stream",
     "text": [
      "Epoch 75, global step 18240: 'val_loss' reached 0.07701 (best 0.07518), saving model to 'saves\\\\vertex_v2\\\\save_AUTO_ENCODER_VERTEX_V2_BS20_2024-11-25\\\\version_0\\\\checkpoints\\\\epoch=75-step=18240.ckpt' as top 10\n"
     ]
    },
    {
     "name": "stdout",
     "output_type": "stream",
     "text": [
      "Epoch 76: 100%|██████████| 240/240 [00:02<00:00, 95.39it/s, v_num=0, val_loss=0.0736]"
     ]
    },
    {
     "name": "stderr",
     "output_type": "stream",
     "text": [
      "Epoch 76, global step 18480: 'val_loss' reached 0.07355 (best 0.07355), saving model to 'saves\\\\vertex_v2\\\\save_AUTO_ENCODER_VERTEX_V2_BS20_2024-11-25\\\\version_0\\\\checkpoints\\\\epoch=76-step=18480.ckpt' as top 10\n"
     ]
    },
    {
     "name": "stdout",
     "output_type": "stream",
     "text": [
      "Epoch 77: 100%|██████████| 240/240 [00:02<00:00, 97.71it/s, v_num=0, val_loss=0.0739] "
     ]
    },
    {
     "name": "stderr",
     "output_type": "stream",
     "text": [
      "Epoch 77, global step 18720: 'val_loss' reached 0.07391 (best 0.07355), saving model to 'saves\\\\vertex_v2\\\\save_AUTO_ENCODER_VERTEX_V2_BS20_2024-11-25\\\\version_0\\\\checkpoints\\\\epoch=77-step=18720.ckpt' as top 10\n"
     ]
    },
    {
     "name": "stdout",
     "output_type": "stream",
     "text": [
      "Epoch 78: 100%|██████████| 240/240 [00:02<00:00, 90.60it/s, v_num=0, val_loss=0.0734] "
     ]
    },
    {
     "name": "stderr",
     "output_type": "stream",
     "text": [
      "Epoch 78, global step 18960: 'val_loss' reached 0.07337 (best 0.07337), saving model to 'saves\\\\vertex_v2\\\\save_AUTO_ENCODER_VERTEX_V2_BS20_2024-11-25\\\\version_0\\\\checkpoints\\\\epoch=78-step=18960.ckpt' as top 10\n"
     ]
    },
    {
     "name": "stdout",
     "output_type": "stream",
     "text": [
      "Epoch 79: 100%|██████████| 240/240 [00:02<00:00, 92.64it/s, v_num=0, val_loss=0.073]  "
     ]
    },
    {
     "name": "stderr",
     "output_type": "stream",
     "text": [
      "Epoch 79, global step 19200: 'val_loss' reached 0.07299 (best 0.07299), saving model to 'saves\\\\vertex_v2\\\\save_AUTO_ENCODER_VERTEX_V2_BS20_2024-11-25\\\\version_0\\\\checkpoints\\\\epoch=79-step=19200.ckpt' as top 10\n"
     ]
    },
    {
     "name": "stdout",
     "output_type": "stream",
     "text": [
      "Epoch 80: 100%|██████████| 240/240 [00:02<00:00, 93.51it/s, v_num=0, val_loss=0.075] "
     ]
    },
    {
     "name": "stderr",
     "output_type": "stream",
     "text": [
      "Epoch 80, global step 19440: 'val_loss' reached 0.07500 (best 0.07299), saving model to 'saves\\\\vertex_v2\\\\save_AUTO_ENCODER_VERTEX_V2_BS20_2024-11-25\\\\version_0\\\\checkpoints\\\\epoch=80-step=19440.ckpt' as top 10\n"
     ]
    },
    {
     "name": "stdout",
     "output_type": "stream",
     "text": [
      "Epoch 81: 100%|██████████| 240/240 [00:02<00:00, 91.06it/s, v_num=0, val_loss=0.0704]"
     ]
    },
    {
     "name": "stderr",
     "output_type": "stream",
     "text": [
      "Epoch 81, global step 19680: 'val_loss' reached 0.07039 (best 0.07039), saving model to 'saves\\\\vertex_v2\\\\save_AUTO_ENCODER_VERTEX_V2_BS20_2024-11-25\\\\version_0\\\\checkpoints\\\\epoch=81-step=19680.ckpt' as top 10\n"
     ]
    },
    {
     "name": "stdout",
     "output_type": "stream",
     "text": [
      "Epoch 82: 100%|██████████| 240/240 [00:02<00:00, 94.41it/s, v_num=0, val_loss=0.0734] "
     ]
    },
    {
     "name": "stderr",
     "output_type": "stream",
     "text": [
      "Epoch 82, global step 19920: 'val_loss' reached 0.07340 (best 0.07039), saving model to 'saves\\\\vertex_v2\\\\save_AUTO_ENCODER_VERTEX_V2_BS20_2024-11-25\\\\version_0\\\\checkpoints\\\\epoch=82-step=19920.ckpt' as top 10\n"
     ]
    },
    {
     "name": "stdout",
     "output_type": "stream",
     "text": [
      "Epoch 83: 100%|██████████| 240/240 [00:02<00:00, 92.75it/s, v_num=0, val_loss=0.0685] "
     ]
    },
    {
     "name": "stderr",
     "output_type": "stream",
     "text": [
      "Epoch 83, global step 20160: 'val_loss' reached 0.06847 (best 0.06847), saving model to 'saves\\\\vertex_v2\\\\save_AUTO_ENCODER_VERTEX_V2_BS20_2024-11-25\\\\version_0\\\\checkpoints\\\\epoch=83-step=20160.ckpt' as top 10\n"
     ]
    },
    {
     "name": "stdout",
     "output_type": "stream",
     "text": [
      "Epoch 84: 100%|██████████| 240/240 [00:02<00:00, 96.22it/s, v_num=0, val_loss=0.0689] "
     ]
    },
    {
     "name": "stderr",
     "output_type": "stream",
     "text": [
      "Epoch 84, global step 20400: 'val_loss' reached 0.06889 (best 0.06847), saving model to 'saves\\\\vertex_v2\\\\save_AUTO_ENCODER_VERTEX_V2_BS20_2024-11-25\\\\version_0\\\\checkpoints\\\\epoch=84-step=20400.ckpt' as top 10\n"
     ]
    },
    {
     "name": "stdout",
     "output_type": "stream",
     "text": [
      "Epoch 85: 100%|██████████| 240/240 [00:02<00:00, 96.45it/s, v_num=0, val_loss=0.0681] "
     ]
    },
    {
     "name": "stderr",
     "output_type": "stream",
     "text": [
      "Epoch 85, global step 20640: 'val_loss' reached 0.06809 (best 0.06809), saving model to 'saves\\\\vertex_v2\\\\save_AUTO_ENCODER_VERTEX_V2_BS20_2024-11-25\\\\version_0\\\\checkpoints\\\\epoch=85-step=20640.ckpt' as top 10\n"
     ]
    },
    {
     "name": "stdout",
     "output_type": "stream",
     "text": [
      "Epoch 86: 100%|██████████| 240/240 [00:02<00:00, 97.11it/s, v_num=0, val_loss=0.0683] "
     ]
    },
    {
     "name": "stderr",
     "output_type": "stream",
     "text": [
      "Epoch 86, global step 20880: 'val_loss' reached 0.06825 (best 0.06809), saving model to 'saves\\\\vertex_v2\\\\save_AUTO_ENCODER_VERTEX_V2_BS20_2024-11-25\\\\version_0\\\\checkpoints\\\\epoch=86-step=20880.ckpt' as top 10\n"
     ]
    },
    {
     "name": "stdout",
     "output_type": "stream",
     "text": [
      "Epoch 87: 100%|██████████| 240/240 [00:02<00:00, 90.54it/s, v_num=0, val_loss=0.0672] "
     ]
    },
    {
     "name": "stderr",
     "output_type": "stream",
     "text": [
      "Epoch 87, global step 21120: 'val_loss' reached 0.06722 (best 0.06722), saving model to 'saves\\\\vertex_v2\\\\save_AUTO_ENCODER_VERTEX_V2_BS20_2024-11-25\\\\version_0\\\\checkpoints\\\\epoch=87-step=21120.ckpt' as top 10\n"
     ]
    },
    {
     "name": "stdout",
     "output_type": "stream",
     "text": [
      "Epoch 88: 100%|██████████| 240/240 [00:02<00:00, 95.26it/s, v_num=0, val_loss=0.0658] "
     ]
    },
    {
     "name": "stderr",
     "output_type": "stream",
     "text": [
      "Epoch 88, global step 21360: 'val_loss' reached 0.06582 (best 0.06582), saving model to 'saves\\\\vertex_v2\\\\save_AUTO_ENCODER_VERTEX_V2_BS20_2024-11-25\\\\version_0\\\\checkpoints\\\\epoch=88-step=21360.ckpt' as top 10\n"
     ]
    },
    {
     "name": "stdout",
     "output_type": "stream",
     "text": [
      "Epoch 89: 100%|██████████| 240/240 [00:02<00:00, 96.33it/s, v_num=0, val_loss=0.0694] "
     ]
    },
    {
     "name": "stderr",
     "output_type": "stream",
     "text": [
      "Epoch 89, global step 21600: 'val_loss' reached 0.06936 (best 0.06582), saving model to 'saves\\\\vertex_v2\\\\save_AUTO_ENCODER_VERTEX_V2_BS20_2024-11-25\\\\version_0\\\\checkpoints\\\\epoch=89-step=21600.ckpt' as top 10\n"
     ]
    },
    {
     "name": "stdout",
     "output_type": "stream",
     "text": [
      "Epoch 90: 100%|██████████| 240/240 [00:02<00:00, 98.74it/s, v_num=0, val_loss=0.0661] "
     ]
    },
    {
     "name": "stderr",
     "output_type": "stream",
     "text": [
      "Epoch 90, global step 21840: 'val_loss' reached 0.06612 (best 0.06582), saving model to 'saves\\\\vertex_v2\\\\save_AUTO_ENCODER_VERTEX_V2_BS20_2024-11-25\\\\version_0\\\\checkpoints\\\\epoch=90-step=21840.ckpt' as top 10\n"
     ]
    },
    {
     "name": "stdout",
     "output_type": "stream",
     "text": [
      "Epoch 91: 100%|██████████| 240/240 [00:02<00:00, 97.18it/s, v_num=0, val_loss=0.0696] "
     ]
    },
    {
     "name": "stderr",
     "output_type": "stream",
     "text": [
      "Epoch 91, global step 22080: 'val_loss' reached 0.06958 (best 0.06582), saving model to 'saves\\\\vertex_v2\\\\save_AUTO_ENCODER_VERTEX_V2_BS20_2024-11-25\\\\version_0\\\\checkpoints\\\\epoch=91-step=22080.ckpt' as top 10\n"
     ]
    },
    {
     "name": "stdout",
     "output_type": "stream",
     "text": [
      "Epoch 92: 100%|██████████| 240/240 [00:02<00:00, 95.70it/s, v_num=0, val_loss=0.0651] "
     ]
    },
    {
     "name": "stderr",
     "output_type": "stream",
     "text": [
      "Epoch 92, global step 22320: 'val_loss' reached 0.06508 (best 0.06508), saving model to 'saves\\\\vertex_v2\\\\save_AUTO_ENCODER_VERTEX_V2_BS20_2024-11-25\\\\version_0\\\\checkpoints\\\\epoch=92-step=22320.ckpt' as top 10\n"
     ]
    },
    {
     "name": "stdout",
     "output_type": "stream",
     "text": [
      "Epoch 93: 100%|██████████| 240/240 [00:02<00:00, 86.06it/s, v_num=0, val_loss=0.0638] "
     ]
    },
    {
     "name": "stderr",
     "output_type": "stream",
     "text": [
      "Epoch 93, global step 22560: 'val_loss' reached 0.06380 (best 0.06380), saving model to 'saves\\\\vertex_v2\\\\save_AUTO_ENCODER_VERTEX_V2_BS20_2024-11-25\\\\version_0\\\\checkpoints\\\\epoch=93-step=22560.ckpt' as top 10\n"
     ]
    },
    {
     "name": "stdout",
     "output_type": "stream",
     "text": [
      "Epoch 94: 100%|██████████| 240/240 [00:02<00:00, 92.50it/s, v_num=0, val_loss=0.0636] "
     ]
    },
    {
     "name": "stderr",
     "output_type": "stream",
     "text": [
      "Epoch 94, global step 22800: 'val_loss' reached 0.06357 (best 0.06357), saving model to 'saves\\\\vertex_v2\\\\save_AUTO_ENCODER_VERTEX_V2_BS20_2024-11-25\\\\version_0\\\\checkpoints\\\\epoch=94-step=22800.ckpt' as top 10\n"
     ]
    },
    {
     "name": "stdout",
     "output_type": "stream",
     "text": [
      "Epoch 95: 100%|██████████| 240/240 [00:02<00:00, 95.66it/s, v_num=0, val_loss=0.0644] "
     ]
    },
    {
     "name": "stderr",
     "output_type": "stream",
     "text": [
      "Epoch 95, global step 23040: 'val_loss' reached 0.06439 (best 0.06357), saving model to 'saves\\\\vertex_v2\\\\save_AUTO_ENCODER_VERTEX_V2_BS20_2024-11-25\\\\version_0\\\\checkpoints\\\\epoch=95-step=23040.ckpt' as top 10\n"
     ]
    },
    {
     "name": "stdout",
     "output_type": "stream",
     "text": [
      "Epoch 96: 100%|██████████| 240/240 [00:02<00:00, 95.79it/s, v_num=0, val_loss=0.0648] "
     ]
    },
    {
     "name": "stderr",
     "output_type": "stream",
     "text": [
      "Epoch 96, global step 23280: 'val_loss' reached 0.06479 (best 0.06357), saving model to 'saves\\\\vertex_v2\\\\save_AUTO_ENCODER_VERTEX_V2_BS20_2024-11-25\\\\version_0\\\\checkpoints\\\\epoch=96-step=23280.ckpt' as top 10\n"
     ]
    },
    {
     "name": "stdout",
     "output_type": "stream",
     "text": [
      "Epoch 97: 100%|██████████| 240/240 [00:02<00:00, 98.07it/s, v_num=0, val_loss=0.0654] "
     ]
    },
    {
     "name": "stderr",
     "output_type": "stream",
     "text": [
      "Epoch 97, global step 23520: 'val_loss' reached 0.06542 (best 0.06357), saving model to 'saves\\\\vertex_v2\\\\save_AUTO_ENCODER_VERTEX_V2_BS20_2024-11-25\\\\version_0\\\\checkpoints\\\\epoch=97-step=23520.ckpt' as top 10\n"
     ]
    },
    {
     "name": "stdout",
     "output_type": "stream",
     "text": [
      "Epoch 98: 100%|██████████| 240/240 [00:02<00:00, 91.56it/s, v_num=0, val_loss=0.0614] "
     ]
    },
    {
     "name": "stderr",
     "output_type": "stream",
     "text": [
      "Epoch 98, global step 23760: 'val_loss' reached 0.06137 (best 0.06137), saving model to 'saves\\\\vertex_v2\\\\save_AUTO_ENCODER_VERTEX_V2_BS20_2024-11-25\\\\version_0\\\\checkpoints\\\\epoch=98-step=23760.ckpt' as top 10\n"
     ]
    },
    {
     "name": "stdout",
     "output_type": "stream",
     "text": [
      "Epoch 99: 100%|██████████| 240/240 [00:02<00:00, 96.01it/s, v_num=0, val_loss=0.0634] "
     ]
    },
    {
     "name": "stderr",
     "output_type": "stream",
     "text": [
      "Epoch 99, global step 24000: 'val_loss' reached 0.06340 (best 0.06137), saving model to 'saves\\\\vertex_v2\\\\save_AUTO_ENCODER_VERTEX_V2_BS20_2024-11-25\\\\version_0\\\\checkpoints\\\\epoch=99-step=24000.ckpt' as top 10\n",
      "`Trainer.fit` stopped: `max_epochs=100` reached.\n"
     ]
    },
    {
     "name": "stdout",
     "output_type": "stream",
     "text": [
      "Epoch 99: 100%|██████████| 240/240 [00:02<00:00, 90.42it/s, v_num=0, val_loss=0.0634]\n"
     ]
    }
   ],
   "source": [
    "trainer.train(train_mode=TrainerModes.LOCAL)"
   ]
  },
  {
   "cell_type": "code",
   "execution_count": null,
   "metadata": {},
   "outputs": [
    {
     "data": {
      "text/plain": [
       "Reusing TensorBoard on port 6006 (pid 22904), started 0:04:43 ago. (Use '!kill 22904' to kill it.)"
      ]
     },
     "metadata": {},
     "output_type": "display_data"
    },
    {
     "data": {
      "text/html": [
       "\n",
       "      <iframe id=\"tensorboard-frame-444126c5b5095d28\" width=\"100%\" height=\"800\" frameborder=\"0\">\n",
       "      </iframe>\n",
       "      <script>\n",
       "        (function() {\n",
       "          const frame = document.getElementById(\"tensorboard-frame-444126c5b5095d28\");\n",
       "          const url = new URL(\"http://localhost\");\n",
       "          const port = 6006;\n",
       "          if (port) {\n",
       "            url.port = port;\n",
       "          }\n",
       "          frame.src = url;\n",
       "        })();\n",
       "      </script>\n",
       "    "
      ],
      "text/plain": [
       "<IPython.core.display.HTML object>"
      ]
     },
     "metadata": {},
     "output_type": "display_data"
    }
   ],
   "source": [
    "%load_ext tensorboard\n",
    "%tensorboard --logdir saves"
   ]
  },
  {
   "cell_type": "markdown",
   "metadata": {},
   "source": [
    "### Predict"
   ]
  },
  {
   "cell_type": "code",
   "execution_count": null,
   "metadata": {},
   "outputs": [],
   "source": [
    "# works with a trained or untrained VertexTrainer\n",
    "pred = trainer.predict(new_data_path='../frgs/tp0.020000_mu0.080000.h5', save_path='save_AUTO_ENCODER_VERTEX_V2_BS20_2024-11-25')"
   ]
  }
 ],
 "metadata": {
  "kernelspec": {
   "display_name": "ml24_1",
   "language": "python",
   "name": "ml24_1"
  },
  "language_info": {
   "codemirror_mode": {
    "name": "ipython",
    "version": 3
   },
   "file_extension": ".py",
   "mimetype": "text/x-python",
   "name": "python",
   "nbconvert_exporter": "python",
   "pygments_lexer": "ipython3",
   "version": "3.12.2"
  }
 },
 "nbformat": 4,
 "nbformat_minor": 2
}
