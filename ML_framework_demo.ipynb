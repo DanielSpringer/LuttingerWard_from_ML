{
 "cells": [
  {
   "cell_type": "code",
   "execution_count": 1,
   "metadata": {},
   "outputs": [],
   "source": [
    "%load_ext autoreload\n",
    "%autoreload 2"
   ]
  },
  {
   "cell_type": "markdown",
   "metadata": {},
   "source": [
    "### Create slurm-script"
   ]
  },
  {
   "cell_type": "code",
   "execution_count": null,
   "metadata": {},
   "outputs": [],
   "source": [
    "# generate slurm\n",
    "from src.util import slurm_generate\n",
    "\n",
    "\n",
    "trainer_kwargs = {\n",
    "    'project_name': 'vertex_v2', \n",
    "    'config_name': 'confmod_auto_encoder_v2.json', \n",
    "    'subconfig_name': 'AUTO_ENCODER_VERTEX_V2', \n",
    "    'config_kwargs': {\n",
    "        'subset': 10, \n",
    "        'subset_shuffle': True, \n",
    "        'subset_seed': 42,\n",
    "    },\n",
    "}\n",
    "slurm_generate.create(project_name='vertex_v2', script_name='vsc_test', \n",
    "                      pyenv_dir='/gpfs/data/fs71925/shepp123/anaconda3',\n",
    "                      pyenv_name='conda_ml24_1', path_to_repo='/gpfs/data/fs71925/shepp123', \n",
    "                      trainer='VertexTrainer', trainer_kwargs=trainer_kwargs)\n"
   ]
  },
  {
   "cell_type": "code",
   "execution_count": null,
   "metadata": {},
   "outputs": [],
   "source": [
    "# create slurm- and train-script from config-file, using the default slurm-config name\n",
    "!python src/util/slurm_generate.py configs/confmod_auto_encoder_v2.json"
   ]
  },
  {
   "cell_type": "code",
   "execution_count": null,
   "metadata": {},
   "outputs": [],
   "source": [
    "# create slurm- and train-script from config-file, specifying the name of the subsection containing the slurm-configs\n",
    "!python src/util/slurm_generate.py configs/confmod_auto_encoder_v2.json SLURM_CONFIG_24X6"
   ]
  },
  {
   "cell_type": "markdown",
   "metadata": {},
   "source": [
    "# Demo: Vertex Autoencoder"
   ]
  },
  {
   "cell_type": "markdown",
   "metadata": {},
   "source": [
    "### Load data for inspection"
   ]
  },
  {
   "cell_type": "code",
   "execution_count": null,
   "metadata": {},
   "outputs": [
    {
     "name": "stdout",
     "output_type": "stream",
     "text": [
      "(576, 576, 576)\n"
     ]
    }
   ],
   "source": [
    "from src.load_data.vertex import AutoEncoderVertexDataset\n",
    "\n",
    "vertex = AutoEncoderVertexDataset.load_from_file(path='../frgs/tp0.020000_mu0.080000.h5')\n",
    "print(vertex.shape)"
   ]
  },
  {
   "cell_type": "markdown",
   "metadata": {},
   "source": [
    "### Training"
   ]
  },
  {
   "cell_type": "code",
   "execution_count": null,
   "metadata": {},
   "outputs": [],
   "source": [
    "from src.trainer import TrainerModes, VertexTrainer\n",
    "\n",
    "trainer = VertexTrainer(project_name='vertex_v2', config_name='confmod_auto_encoder_v2.json', \n",
    "                        subconfig_name='AUTO_ENCODER_VERTEX_V2')"
   ]
  },
  {
   "cell_type": "code",
   "execution_count": null,
   "metadata": {},
   "outputs": [],
   "source": [
    "trainer.train(train_mode=TrainerModes.LOCAL)"
   ]
  },
  {
   "cell_type": "code",
   "execution_count": null,
   "metadata": {},
   "outputs": [],
   "source": [
    "%load_ext tensorboard\n",
    "%tensorboard --logdir saves"
   ]
  },
  {
   "cell_type": "markdown",
   "metadata": {},
   "source": [
    "### Predict"
   ]
  },
  {
   "cell_type": "code",
   "execution_count": null,
   "metadata": {},
   "outputs": [],
   "source": [
    "# run a prediction, result will be stored in the saves-folder\n",
    "# works with a trained or untrained VertexTrainer\n",
    "pred = trainer.predict(new_data_path='../frgs/tp0.020000_mu0.080000.h5', \n",
    "                       save_path='save_AUTO_ENCODER_VERTEX_V2_BS20_2024-11-25')\n",
    "pred.shape"
   ]
  },
  {
   "cell_type": "code",
   "execution_count": null,
   "metadata": {},
   "outputs": [],
   "source": [
    "# load already existing prediction\n",
    "pred = trainer.load_prediction(save_path='save_AUTO_ENCODER_VERTEX_V2_BS20_2024-11-25/version_0')\n",
    "pred.shape"
   ]
  }
 ],
 "metadata": {
  "kernelspec": {
   "display_name": "ml24_1",
   "language": "python",
   "name": "ml24_1"
  },
  "language_info": {
   "codemirror_mode": {
    "name": "ipython",
    "version": 3
   },
   "file_extension": ".py",
   "mimetype": "text/x-python",
   "name": "python",
   "nbconvert_exporter": "python",
   "pygments_lexer": "ipython3",
   "version": "3.12.2"
  }
 },
 "nbformat": 4,
 "nbformat_minor": 2
}
